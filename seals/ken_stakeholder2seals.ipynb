{
 "cells": [
  {
   "cell_type": "code",
   "execution_count": 2,
   "metadata": {},
   "outputs": [],
   "source": [
    "import pygeoprocessing as pg\n",
    "import numpy as np\n",
    "from osgeo import gdal"
   ]
  },
  {
   "cell_type": "code",
   "execution_count": null,
   "metadata": {},
   "outputs": [],
   "source": [
    "# WARP STAKEHOLDER RASTER TO MATCH PADDED SEALS RASTER\n",
    "# Input file paths\n",
    "raster_path = \"/Users/mbraaksma/Library/CloudStorage/GoogleDrive-braak014@umn.edu/Shared drives/NatCapTEEMs/Projects/JRC Project/Data/stakeholder/Raster files/RS1_Landcover/Land Use Land Cover-2020-2021-2022-2023/Land Use Land Cover/2020_composite_raw.tif\"\n",
    "aligned_raster_path = \"/Users/mbraaksma/Files/base_data/demetra-seals/lulc/stakeholder2seals/2020_composite_10sec.tif\"\n",
    "\n",
    "# Reference raster for target properties\n",
    "ref_raster = \"/Users/mbraaksma/Files/seals/projects/run_ken_standard/intermediate/fine_processed_inputs/lulc/esa/seals7/lulc_esa_seals7_2017.tif\"\n",
    "ref_raster_info = pg.get_raster_info(ref_raster)\n",
    "\n",
    "# Warp raster with exact settings\n",
    "pg.warp_raster(\n",
    "    base_raster_path=raster_path,\n",
    "    target_pixel_size=ref_raster_info['pixel_size'],  # Match pixel size\n",
    "    target_raster_path=aligned_raster_path,\n",
    "    resample_method=\"near\",  # Nearest neighbor for categorical data\n",
    "    target_bb=ref_raster_info[\"bounding_box\"],  # Exact bounding box\n",
    "    gdal_warp_options=[\"-tap\"],  # Align pixels to avoid rounding issues\n",
    ")"
   ]
  },
  {
   "cell_type": "code",
   "execution_count": null,
   "metadata": {},
   "outputs": [
    {
     "name": "stdout",
     "output_type": "stream",
     "text": [
      "Unique values in original raster: [0 1 2 3 4 5 6 7 8]\n",
      "Unique values in AEZ raster: [  1   2   3   4   5   6   7   8 255]\n",
      "Unique values in reclassified raster: [  0   1   2   3   4   5   6   7   8 255]\n"
     ]
    }
   ],
   "source": [
    "# CONVERT OUT OF BOUNDS VALUES TO NODATA\n",
    "# Input file paths\n",
    "raster_path = \"/Users/mbraaksma/Files/base_data/demetra-seals/lulc/stakeholder2seals/2020_composite_10sec.tif\"\n",
    "aez_raster_path = '/Users/mbraaksma/Files/base_data/demetra-seals/borders/kenya_aez_300m.tif'\n",
    "\n",
    "# Load rasters\n",
    "raster_array = pg.raster_to_numpy_array(raster_path)\n",
    "aez_array = pg.raster_to_numpy_array(aez_raster_path)\n",
    "unique_values = np.unique(raster_array)\n",
    "print(\"Unique values in original raster:\", unique_values) \n",
    "print(\"Unique values in AEZ raster:\", np.unique(aez_array))\n",
    "\n",
    "# Reclassify out of bounds values to nodata\n",
    "raster_array[aez_array == 255] = 255\n",
    "print(\"Unique values in reclassified raster:\", np.unique(raster_array))\n",
    "\n",
    "# Save reclassified raster\n",
    "ref_raster_info = pg.get_raster_info(aez_raster_path)\n",
    "fixed_raster_path = \"/Users/mbraaksma/Files/base_data/demetra-seals/lulc/stakeholder2seals/2020_composite_10sec_fixedNDV.tif\"\n",
    "pg.numpy_array_to_raster(raster_array, \n",
    "                        target_nodata=255, \n",
    "                        pixel_size=ref_raster_info['pixel_size'], \n",
    "                        origin=[ref_raster_info['bounding_box'][0], ref_raster_info['bounding_box'][-1]],\n",
    "                        projection_wkt=ref_raster_info['projection_wkt'], \n",
    "                        target_path=fixed_raster_path)"
   ]
  },
  {
   "cell_type": "code",
   "execution_count": null,
   "metadata": {},
   "outputs": [],
   "source": [
    "# RECLASSIFY STAKEHOLDER RASTER AND CONVERT OUTOFBOUNDS VALUES TO NODATA\n",
    "# Input file paths\n",
    "raster_path = fixed_raster_path\n",
    "reclassified_raster_path = \"/Users/mbraaksma/Files/base_data/demetra-seals/lulc/stakeholder2seals/2020_composite_seals7.tif\"\n",
    "aez_raster_path = '/Users/mbraaksma/Files/base_data/demetra-seals/borders/kenya_aez_300m.tif'\n",
    "\n",
    "reclass_map = {\n",
    "    5: 5,  # Shrub and Scrub -> Othernat\n",
    "    3: 5,  # Flooded Vegetation -> Othernat\n",
    "    7: 7,  # Bare -> Other\n",
    "    6: 1,  # Built -> Urban\n",
    "    4: 2,  # Crops -> Cropland\n",
    "    2: 3,  # Grass -> Grassland\n",
    "    1: 4,  # Trees -> Forest\n",
    "    8: 7,  # Snow and Ice -> Other\n",
    "    0: 6   # Water and nodata -> Water\n",
    "}\n",
    "\n",
    "# recalssify raster\n",
    "pg.reclassify_raster(\n",
    "    base_raster_path_band=(raster_path,1),\n",
    "    value_map=reclass_map,\n",
    "    target_raster_path=reclassified_raster_path,\n",
    "    target_datatype=3,\n",
    "    target_nodata=255,\n",
    "    values_required=True,\n",
    ")\n"
   ]
  }
 ],
 "metadata": {
  "kernelspec": {
   "display_name": "geovenv2",
   "language": "python",
   "name": "python3"
  },
  "language_info": {
   "codemirror_mode": {
    "name": "ipython",
    "version": 3
   },
   "file_extension": ".py",
   "mimetype": "text/x-python",
   "name": "python",
   "nbconvert_exporter": "python",
   "pygments_lexer": "ipython3",
   "version": "3.11.6"
  }
 },
 "nbformat": 4,
 "nbformat_minor": 2
}
